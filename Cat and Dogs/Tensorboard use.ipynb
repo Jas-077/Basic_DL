{
 "cells": [
  {
   "cell_type": "code",
   "execution_count": 2,
   "id": "38985ccb",
   "metadata": {},
   "outputs": [
    {
     "name": "stdout",
     "output_type": "stream",
     "text": [
      "[0 0 0 0 1]\n"
     ]
    }
   ],
   "source": [
    "import tensorflow as tf\n",
    "import tensorflow.keras as keras\n",
    "from tensorflow.keras.models import Sequential\n",
    "from tensorflow.keras.layers import Dense, Flatten, Activation, Dropout, Conv2D, MaxPooling2D\n",
    "from tensorflow.keras.callbacks import TensorBoard \n",
    "import numpy as np\n",
    "import time\n",
    "\n",
    "t = int(time.time())\n",
    "name = f\"cat_vs_dogs_64X2={t}\"\n",
    "tensorboard = TensorBoard(log_dir= f\"logs\\\\{name}\")\n",
    "\n",
    "X = np.load('X.npy')\n",
    "y = np.load('y.npy')\n",
    "\n",
    "print(y[:5])\n",
    "\n",
    "X = X/255.0 # standardizing \n"
   ]
  },
  {
   "cell_type": "code",
   "execution_count": 3,
   "id": "00f3b7d1",
   "metadata": {
    "scrolled": true
   },
   "outputs": [
    {
     "data": {
      "text/plain": [
       "\"\\nmodel.add(Dense(2))\\nmodel.add(Activation('softmax'))\\n\\nmodel.compile(loss = 'sparse_categorical_crossentropy',\\n             optimizer = 'adam',\\n             metrics = ['accuracy'])\\n\""
      ]
     },
     "execution_count": 3,
     "metadata": {},
     "output_type": "execute_result"
    }
   ],
   "source": [
    "model = Sequential()\n",
    "model.add(Conv2D(64, (3,3), input_shape = X.shape[1:]))\n",
    "model.add(Activation(\"relu\") )\n",
    "model.add(MaxPooling2D(pool_size=(2,2)))\n",
    "\n",
    "model.add(Conv2D(64, (3,3)))\n",
    "model.add(Activation(\"relu\") )\n",
    "model.add(MaxPooling2D(pool_size=(2,2)))\n",
    "\n",
    "model.add(Flatten())\n",
    "model.add(Dense(64))\n",
    "model.add(Activation('relu'))\n",
    "\n",
    "model.add(Dense(1))\n",
    "model.add(Activation('sigmoid'))\n",
    "\n",
    "model.compile(loss = 'binary_crossentropy',\n",
    "             optimizer = 'adam',\n",
    "             metrics = ['accuracy'])\n",
    "\n",
    "#Can be done\n",
    "'''\n",
    "model.add(Dense(2))\n",
    "model.add(Activation('softmax'))\n",
    "\n",
    "model.compile(loss = 'sparse_categorical_crossentropy',\n",
    "             optimizer = 'adam',\n",
    "             metrics = ['accuracy'])\n",
    "'''"
   ]
  },
  {
   "cell_type": "code",
   "execution_count": 4,
   "id": "21576d7c",
   "metadata": {
    "scrolled": true
   },
   "outputs": [
    {
     "name": "stdout",
     "output_type": "stream",
     "text": [
      "Epoch 1/8\n",
      "  1/702 [..............................] - ETA: 14s - loss: 0.6984 - accuracy: 0.3438WARNING:tensorflow:From D:\\Anaconda\\lib\\site-packages\\tensorflow\\python\\ops\\summary_ops_v2.py:1277: stop (from tensorflow.python.eager.profiler) is deprecated and will be removed after 2020-07-01.\n",
      "Instructions for updating:\n",
      "use `tf.profiler.experimental.stop` instead.\n",
      "  2/702 [..............................] - ETA: 5:10 - loss: 0.7171 - accuracy: 0.4531WARNING:tensorflow:Callbacks method `on_train_batch_end` is slow compared to the batch time (batch time: 0.1482s vs `on_train_batch_end` time: 0.5829s). Check your callbacks.\n",
      "702/702 [==============================] - 67s 95ms/step - loss: 0.6103 - accuracy: 0.6600 - val_loss: 0.5539 - val_accuracy: 0.7090\n",
      "Epoch 2/8\n",
      "702/702 [==============================] - 70s 99ms/step - loss: 0.5003 - accuracy: 0.7579 - val_loss: 0.4904 - val_accuracy: 0.7711\n",
      "Epoch 3/8\n",
      "702/702 [==============================] - 70s 99ms/step - loss: 0.4608 - accuracy: 0.7811 - val_loss: 0.4848 - val_accuracy: 0.7623\n",
      "Epoch 4/8\n",
      "702/702 [==============================] - 71s 102ms/step - loss: 0.4225 - accuracy: 0.8034 - val_loss: 0.4704 - val_accuracy: 0.7820\n",
      "Epoch 5/8\n",
      "702/702 [==============================] - 70s 100ms/step - loss: 0.3805 - accuracy: 0.8254 - val_loss: 0.4565 - val_accuracy: 0.7920\n",
      "Epoch 6/8\n",
      "702/702 [==============================] - 66s 95ms/step - loss: 0.3434 - accuracy: 0.8483 - val_loss: 0.4837 - val_accuracy: 0.7904\n",
      "Epoch 7/8\n",
      "702/702 [==============================] - 67s 96ms/step - loss: 0.3012 - accuracy: 0.8702 - val_loss: 0.4832 - val_accuracy: 0.7928\n",
      "Epoch 8/8\n",
      "702/702 [==============================] - 69s 98ms/step - loss: 0.2556 - accuracy: 0.8931 - val_loss: 0.5116 - val_accuracy: 0.7884\n"
     ]
    },
    {
     "data": {
      "text/plain": [
       "<tensorflow.python.keras.callbacks.History at 0x12a97862af0>"
      ]
     },
     "execution_count": 4,
     "metadata": {},
     "output_type": "execute_result"
    }
   ],
   "source": [
    "model.fit(X,y, epochs=8, batch_size=32, validation_split=0.1, callbacks = [tensorboard])"
   ]
  },
  {
   "cell_type": "code",
   "execution_count": 5,
   "id": "dfcfafe6",
   "metadata": {},
   "outputs": [
    {
     "name": "stdout",
     "output_type": "stream",
     "text": [
      "WARNING:tensorflow:From D:\\Anaconda\\lib\\site-packages\\tensorflow\\python\\training\\tracking\\tracking.py:111: Model.state_updates (from tensorflow.python.keras.engine.training) is deprecated and will be removed in a future version.\n",
      "Instructions for updating:\n",
      "This property should not be used in TensorFlow 2.0, as updates are applied automatically.\n",
      "WARNING:tensorflow:From D:\\Anaconda\\lib\\site-packages\\tensorflow\\python\\training\\tracking\\tracking.py:111: Layer.updates (from tensorflow.python.keras.engine.base_layer) is deprecated and will be removed in a future version.\n",
      "Instructions for updating:\n",
      "This property should not be used in TensorFlow 2.0, as updates are applied automatically.\n",
      "INFO:tensorflow:Assets written to: CatsVsDogs\\assets\n"
     ]
    }
   ],
   "source": [
    "model.save('CatsVsDogs')"
   ]
  }
 ],
 "metadata": {
  "kernelspec": {
   "display_name": "Python 3",
   "language": "python",
   "name": "python3"
  },
  "language_info": {
   "codemirror_mode": {
    "name": "ipython",
    "version": 3
   },
   "file_extension": ".py",
   "mimetype": "text/x-python",
   "name": "python",
   "nbconvert_exporter": "python",
   "pygments_lexer": "ipython3",
   "version": "3.8.8"
  }
 },
 "nbformat": 4,
 "nbformat_minor": 5
}
